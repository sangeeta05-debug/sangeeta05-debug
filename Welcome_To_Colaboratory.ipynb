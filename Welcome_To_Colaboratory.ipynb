{
  "cells": [
    {
      "cell_type": "markdown",
      "metadata": {
        "id": "view-in-github",
        "colab_type": "text"
      },
      "source": [
        "<a href=\"https://colab.research.google.com/github/sangeeta05-debug/sangeeta05-debug/blob/main/Welcome_To_Colaboratory.ipynb\" target=\"_parent\"><img src=\"https://colab.research.google.com/assets/colab-badge.svg\" alt=\"Open In Colab\"/></a>"
      ]
    },
    {
      "cell_type": "code",
      "source": [
        "#my first Game Project on Python Stone, Paper, Scissors\n",
        "# Stone, Paper and Scissors Game\n",
        "\n",
        "# First import the random generator\n",
        "from random import randint\n",
        "\n",
        "#create a list of play options\n",
        "options = [\"Rock\", \"Paper\", \"Scissors\"]\n",
        "\n",
        "while True:\n",
        "\n",
        "    # Take input/option from player 2 which is user\n",
        "    userAsPlayer1 = input(\"Rock, Paper, Scissors:? \")\n",
        "   \n",
        "    #assign a random option to the computer which is our player1\n",
        "    computerAsPlayer2 = options[randint(0,2)]\n",
        "\n",
        "    if userAsPlayer1 == computerAsPlayer2:\n",
        "      print(\"Computer selected \", computerAsPlayer2)\n",
        "      print(\"Tie!\")\n",
        "\n",
        "    elif userAsPlayer1 == \"Rock\":\n",
        "        if computerAsPlayer2 == \"Paper\":\n",
        "          print(\"Computer selected Paper\")\n",
        "          print(\"You lose! Paper covers Rock\")\n",
        "        else:\n",
        "          print(\"Computer selected Scissors\")\n",
        "          print(\"You win! Rock smashes Scissors\")\n",
        "\n",
        "    elif userAsPlayer1 == \"Paper\":\n",
        "        if computerAsPlayer2 == \"Scissors\":\n",
        "          print(\"Computer selected Scissors\")\n",
        "          print(\"You lose! Scissors cut Paper\")\n",
        "        else:\n",
        "          print(\"Computer selected Rock\")\n",
        "          print(\"You win! Paper covers Rock\")\n",
        "\n",
        "    elif userAsPlayer1 == \"Scissors\":\n",
        "        if computerAsPlayer2 == \"Rock\":\n",
        "          print(\"Computer selected Rock\")\n",
        "          print(\"You lose! Rock smashes Scissors\")\n",
        "        else:\n",
        "          print(\"Computer selected Paper\")\n",
        "          print(\"You win! Scissors cut Paper\")\n",
        "\n",
        "    else:\n",
        "        print(\"That's not a valid play options. Check your spelling!\")\n",
        "\n"
      ],
      "metadata": {
        "id": "GW6QBY-M36eX"
      },
      "execution_count": null,
      "outputs": []
    }
  ],
  "metadata": {
    "colab": {
      "name": "Welcome To Colaboratory",
      "provenance": [],
      "include_colab_link": true
    },
    "kernelspec": {
      "display_name": "Python 3",
      "name": "python3"
    }
  },
  "nbformat": 4,
  "nbformat_minor": 0
}