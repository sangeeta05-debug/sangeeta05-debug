{
  "nbformat": 4,
  "nbformat_minor": 0,
  "metadata": {
    "kernelspec": {
      "display_name": "Python 3",
      "language": "python",
      "name": "python3"
    },
    "language_info": {
      "codemirror_mode": {
        "name": "ipython",
        "version": 3
      },
      "file_extension": ".py",
      "mimetype": "text/x-python",
      "name": "python",
      "nbconvert_exporter": "python",
      "pygments_lexer": "ipython3",
      "version": "3.7.0"
    },
    "colab": {
      "provenance": [],
      "collapsed_sections": [],
      "include_colab_link": true
    }
  },
  "cells": [
    {
      "cell_type": "markdown",
      "metadata": {
        "id": "view-in-github",
        "colab_type": "text"
      },
      "source": [
        "<a href=\"https://colab.research.google.com/github/sangeeta05-debug/sangeeta05-debug/blob/main/Copy_of_Lesson_6_Homework.ipynb\" target=\"_parent\"><img src=\"https://colab.research.google.com/assets/colab-badge.svg\" alt=\"Open In Colab\"/></a>"
      ]
    },
    {
      "cell_type": "markdown",
      "metadata": {
        "id": "AT4fPM0PIH8S"
      },
      "source": [
        "# Homework Lesson 6: Boolean logic and decision making"
      ]
    },
    {
      "cell_type": "markdown",
      "source": [
        "# Part 1: If, elif, else"
      ],
      "metadata": {
        "id": "ZrYN36gwTRhG"
      }
    },
    {
      "cell_type": "markdown",
      "source": [
        "1. Ask a user to enter their name. If the name has 6 characters or more, inform the user that they have a long name."
      ],
      "metadata": {
        "id": "fSsdfyeFS7uM"
      }
    },
    {
      "cell_type": "code",
      "metadata": {
        "id": "2ZBwe_C4IH8X",
        "outputId": "b475a8e3-1880-4f77-d957-c4250e1dffec",
        "colab": {
          "base_uri": "https://localhost:8080/"
        }
      },
      "source": [
        "i = 1;\n",
        "while i == 1:\n",
        "  name = str(input(\"Enter your name: \"))\n",
        "  if len(name) > 6:\n",
        "   print(\"You have entered\", name, \"which is a long name\")\n",
        "  else : \n",
        "   print(name)\n",
        "   i = 0\n",
        "   break\n"
      ],
      "execution_count": null,
      "outputs": [
        {
          "output_type": "stream",
          "name": "stdout",
          "text": [
            "Enter your name: Sangeeta\n",
            "You have entered Sangeeta which is a long name\n",
            "Enter your name: Saanvi\n",
            "Saanvi\n"
          ]
        }
      ]
    },
    {
      "cell_type": "markdown",
      "source": [
        "2. Below you are given a code similar to the one we saw in the lesson. \n",
        "In a few sentences (or bullet points), explain what the code is doing.\n",
        "Play around with the code and write what will be printed out when you enter the number 7 and what if you enter the number -1.\n",
        "Draw a flowchart that explains the logic of the code."
      ],
      "metadata": {
        "id": "y0QVF-m4TA9H"
      }
    },
    {
      "cell_type": "code",
      "source": [
        "print(\"Enter one number\")\n",
        "a = float(input())\n",
        "if a >= 7:\n",
        "    print(\"The number is equal or greater than 7\")\n",
        "else:\n",
        "    print(\"The number is lower than 7\")\n",
        "print(\"The program has finished.\")"
      ],
      "metadata": {
        "id": "-Or_JQQPTBHY",
        "outputId": "366100ea-864f-405e-9d1c-11eec4746468",
        "colab": {
          "base_uri": "https://localhost:8080/"
        }
      },
      "execution_count": null,
      "outputs": [
        {
          "output_type": "stream",
          "name": "stdout",
          "text": [
            "Enter one number\n",
            "7\n",
            "The number is equal or greater than 7\n",
            "The program has finished.\n"
          ]
        }
      ]
    },
    {
      "cell_type": "markdown",
      "source": [
        "**add your text and the flowchart screenshot here**\n",
        "ask the user enter one Number.\n",
        "if the number is eqal or greater then 7 then print the number\n",
        "els  if the number lower then 7 give then output that programme is finish.\n"
      ],
      "metadata": {
        "id": "5wXTC9jxj6A8"
      }
    },
    {
      "cell_type": "markdown",
      "source": [
        "3.a) Below is a Python program for a tee and coffee machine. What is the output of the program if: \n",
        "The user wants a tea?\n",
        "The user wants a coffee?\n",
        "The user wants a hot chocolate?"
      ],
      "metadata": {
        "id": "4T9EkowPTE1C"
      }
    },
    {
      "cell_type": "code",
      "source": [
        "print(\"Turning on the machine...\")\n",
        "beverage = input(\"Do you want tea or coffee? \")\n",
        "if beverage == \"tea\":\n",
        "    print(\"Preparing tea...\")\n",
        "elif beverage == \"coffee\" :\n",
        "    print(\"Preparing coffee...\")\n",
        "\n",
        "print(\"Turning off the machine.\")"
      ],
      "metadata": {
        "id": "7i4VE9qXTE_B",
        "outputId": "d29a9385-54c6-49bf-ce6c-f3675779fe0e",
        "colab": {
          "base_uri": "https://localhost:8080/"
        }
      },
      "execution_count": null,
      "outputs": [
        {
          "output_type": "stream",
          "name": "stdout",
          "text": [
            "Turning on the machine...\n",
            "Do you want tea or coffee? tea\n",
            "Preparing tea...\n",
            "Turning off the machine.\n"
          ]
        }
      ]
    },
    {
      "cell_type": "markdown",
      "source": [
        "**add your answers here**"
      ],
      "metadata": {
        "id": "IT4Bka2qkSW1"
      }
    },
    {
      "cell_type": "markdown",
      "source": [
        "3.b) How would you enhance the code given above, so that when a user wants anything else besides coffee or tea you inform the user that the required beverage is not available?"
      ],
      "metadata": {
        "id": "F7PmqAkNTGgI"
      }
    },
    {
      "cell_type": "code",
      "source": [
        "# Enter you code here\n",
        "\n",
        "print(\"Turning on the machine...\")\n",
        "\n",
        "beverage = input(\"Do you want tea or coffee? \")\n",
        "\n",
        "if beverage == \"tea\":\n",
        "    print(\"Preparing tea...\")\n",
        "elif beverage == \"coffee\" :\n",
        "    print(\"Preparing coffee...\")\n",
        "else:\n",
        " print(\"the beverage is not available\")\n",
        "\n",
        "print(\"Turning off the machine.\")\n"
      ],
      "metadata": {
        "id": "TPQlnquuTGrq",
        "outputId": "53a37a2e-1ac4-4167-e874-d2fd6ffd04d1",
        "colab": {
          "base_uri": "https://localhost:8080/"
        }
      },
      "execution_count": null,
      "outputs": [
        {
          "output_type": "stream",
          "name": "stdout",
          "text": [
            "Turning on the machine...\n",
            "Do you want tea or coffee? Tea\n",
            "the beverage is not available\n",
            "Turning off the machine.\n"
          ]
        }
      ]
    },
    {
      "cell_type": "markdown",
      "source": [
        "# Part 2: School schedule"
      ],
      "metadata": {
        "id": "KGtV-yj-TQn0"
      }
    },
    {
      "cell_type": "markdown",
      "metadata": {
        "id": "82SPYQR4IH8X"
      },
      "source": [
        "Let's build a personal assistant that knows our school schedule and can answer all the questions we have about it.\n",
        "\n",
        "Consider the following dictionary:"
      ]
    },
    {
      "cell_type": "code",
      "source": [
        "school_schedule = {\n",
        "    8: \"Maths\", \n",
        "    9: \"German\", \n",
        "    10: \"History\", \n",
        "    12: \"Programming\", \n",
        "    13: \"Biology\"\n",
        "}"
      ],
      "metadata": {
        "id": "dPukuWMEUA_x"
      },
      "execution_count": null,
      "outputs": []
    },
    {
      "cell_type": "markdown",
      "source": [
        "1. Take **two inputs** from the user, ask to provide a **name of a subject** and the **hour** at which the class for the given subject takes place (Hint: Use the input() function for that). The subject should be of type string, the hour should be of type int. Store the inputs in two variables with appropriate names!\n",
        "\n",
        "2. Store the inputs as a new key-value pair in the school_schedule dictionary! If the hour (key) is already taken, inform the user about that with an appropriate print statement and **ask for another hour (Hint: use while)**. Otherwise, store the subject at the given hour."
      ],
      "metadata": {
        "id": "yzhzEhJQTVjQ"
      }
    },
    {
      "cell_type": "code",
      "source": [
        "# Enter you code here\n",
        "print(\"Your current schedule is as follows\")\n",
        "school_schedule = {\n",
        "    8: \"Maths\", \n",
        "    9: \"German\", \n",
        "    10: \"History\", \n",
        "    12: \"Programming\", \n",
        "    13: \"Biology\"\n",
        "}\n",
        "print(school_schedule)\n",
        "\n",
        "condition = True\n",
        "while condition :\n",
        " subject= str(input(\"Provide the name of a subject \"))\n",
        " hour= int(input(\"Provide the hour at which the class takes place for the subject \"))\n",
        "\n",
        " if hour in school_schedule:\n",
        "    print(\"The hour is already taken, please continue again\")\n",
        " else :\n",
        "   school_schedule[hour] = subject\n",
        "   print(school_schedule)\n",
        "   condition = False\n"
      ],
      "metadata": {
        "id": "cvJJcriUTQyn",
        "outputId": "d11428a1-810a-4c9b-ccda-cf17f27fd18f",
        "colab": {
          "base_uri": "https://localhost:8080/"
        }
      },
      "execution_count": null,
      "outputs": [
        {
          "output_type": "stream",
          "name": "stdout",
          "text": [
            "Your current schedule is as follows\n",
            "{8: 'Maths', 9: 'German', 10: 'History', 12: 'Programming', 13: 'Biology'}\n",
            "Provide the name of a subject Physics\n",
            "Provide the hour at which the class takes place for the subject 9\n",
            "The hour is already taken, please continue again\n",
            "Provide the name of a subject Physics\n",
            "Provide the hour at which the class takes place for the subject 17\n",
            "{8: 'Maths', 9: 'German', 10: 'History', 12: 'Programming', 13: 'Biology', 17: 'Physics'}\n"
          ]
        }
      ]
    },
    {
      "cell_type": "markdown",
      "source": [
        "3. Ask the user, if she has any questions about her schedule. If she has questions, she should enter yes. Store the user’s input in a variable."
      ],
      "metadata": {
        "id": "uCF2v4vNThFM"
      }
    },
    {
      "cell_type": "code",
      "source": [
        "# Enter you code here"
      ],
      "metadata": {
        "id": "SHS5dzMAThP0"
      },
      "execution_count": null,
      "outputs": []
    },
    {
      "cell_type": "markdown",
      "source": [
        "4. Using the variable with the user’s answer, check if it is a yes or a no. \n",
        "\n",
        "\n",
        "*   If the user entered yes, ask the user what hour she wants to know the subject \n",
        "at. Store the input as a variable. Later, use this variable to check the school_schedule dictionary for the hour she asked about. If there is a class taking place at this hour, print the subject. If not, tell the user she can take a break!\n",
        "*   If the user didn't say yes, tell the user goodbye and finish the program!"
      ],
      "metadata": {
        "id": "9kKmPc3mTiiA"
      }
    },
    {
      "cell_type": "code",
      "source": [
        "# Enter you code here"
      ],
      "metadata": {
        "id": "GUxg2El-TisZ"
      },
      "execution_count": null,
      "outputs": []
    },
    {
      "cell_type": "markdown",
      "source": [
        "PS. Feel free to make as many additional improvements as you like ⛵"
      ],
      "metadata": {
        "id": "IVBk866_Tlc7"
      }
    },
    {
      "cell_type": "code",
      "source": [
        "# Enter you code here"
      ],
      "metadata": {
        "id": "R8Od_hlAjkct"
      },
      "execution_count": null,
      "outputs": []
    },
    {
      "cell_type": "markdown",
      "source": [
        "##You are doing great, ladies! Keep up the good work! 💛💛💛\n",
        "\n",
        "Don’t hesitate to ask your buddy teachers and us for help, if you need it"
      ],
      "metadata": {
        "id": "thZF3JCtToZC"
      }
    }
  ]
}