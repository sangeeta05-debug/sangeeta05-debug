{
  "nbformat": 4,
  "nbformat_minor": 0,
  "metadata": {
    "colab": {
      "provenance": [],
      "collapsed_sections": [],
      "include_colab_link": true
    },
    "kernelspec": {
      "name": "python3",
      "display_name": "Python 3"
    },
    "language_info": {
      "name": "python"
    }
  },
  "cells": [
    {
      "cell_type": "markdown",
      "metadata": {
        "id": "view-in-github",
        "colab_type": "text"
      },
      "source": [
        "<a href=\"https://colab.research.google.com/github/sangeeta05-debug/sangeeta05-debug/blob/main/Copy_of_Lesson_7_Homework.ipynb\" target=\"_parent\"><img src=\"https://colab.research.google.com/assets/colab-badge.svg\" alt=\"Open In Colab\"/></a>"
      ]
    },
    {
      "cell_type": "markdown",
      "metadata": {
        "id": "daHqMSeBDx0H"
      },
      "source": [
        "#**Homework Lesson 7: Loops, Functions & Libraries**\n",
        "\n",
        "\n",
        "Welcome to this week’s homework where we will cover the principles of Loops & Functions\n",
        "Please remember as always - if you have questions, first have a quick internet search \n",
        "\n",
        "Loops: https://www.w3schools.com/python/python_for_loops.asp & https://www.w3schools.com/python/python_while_loops.asp,  \n",
        "Functions: https://www.w3schools.com/python/python_functions.asp)\n",
        "\n",
        "and if you’re still confused - please reach out to your buddies, or your teachers \n",
        "\n"
      ]
    },
    {
      "cell_type": "markdown",
      "metadata": {
        "id": "PA72skJQEofF"
      },
      "source": [
        "#**Exercise 1 For Loops**\n",
        "\n",
        "\n",
        "Sarah has a list of numbers:\n",
        "\n",
        "\n",
        "`numbers = [2, 5, 6, 21, 44, 33, 210, 999]`\n",
        "\n",
        "\n",
        "\n",
        "\n",
        "For each number, she needs to apply an exponent according to the position or index the number is in the list, so that:\n",
        "\n",
        "\n",
        "`numbers = [2^1, 5^2, 6^3 ...]`\n",
        "\n",
        "\n",
        "Before, Sarah would always do this manually, however she now knows that using a for loop can save her time and energy.\n",
        "\n",
        "Write a **for loop** that will do the correct arithmetic, and **append the numbers into a separate list**, `refined_numbers` and **print** the list out. "
      ]
    },
    {
      "cell_type": "code",
      "metadata": {
        "id": "g7VJcgyiD2FM",
        "outputId": "5e83044f-ec8d-4f5f-bbf9-5b1e7a831438",
        "colab": {
          "base_uri": "https://localhost:8080/"
        }
      },
      "source": [
        "# your code here\n",
        "\n",
        "input = [2, 5, 6, 21, 44, 33, 210, 999]\n",
        "refined_numbers = []\n",
        "\n",
        "for x in input:\n",
        "  index = input.index(x) + 1\n",
        "  number = x^index\n",
        "  refined_numbers.append(number)\n",
        "\n",
        "print(refined_numbers)\n",
        "\n",
        "\n",
        "\n",
        "\n",
        "\n",
        "\n",
        "\n"
      ],
      "execution_count": 19,
      "outputs": [
        {
          "output_type": "stream",
          "name": "stdout",
          "text": [
            "[3, 7, 5, 17, 41, 39, 213, 1007]\n"
          ]
        }
      ]
    },
    {
      "cell_type": "markdown",
      "metadata": {
        "id": "NhlHhgKcFLLn"
      },
      "source": [
        "#**Exercise 2 While Loops**\n",
        "Joerg is currently writing a “random walk” simulation. This is a simulation where a variable moves around randomly and creates a **[non-deterministic ](https://simple.wikipedia.org/wiki/Nondeterminism)model**. Because this is an **indeterminate case**  (i.e. we don’t  know when the end will be), he is using a **while loop**.\n",
        "\n",
        "To help with this, Joerg is using a **function**  that he has imported from a package called `random`. `random` is a module / package that contains lots of functions to produce random results. In this case, in the package random contains a function by the same name, `random()`. This function returns a floating point value between 0 and 1. Joerg wants  to run this simulation, and see what the results are. \n",
        "\n",
        "First, he imports the random package (make sure you include this at the top of your file!)\n",
        "\n",
        "\n",
        "`from random import random`\n",
        "\n",
        "\n",
        "Then, he defines a start point, and an upper and lower boundary, \n",
        "\n",
        "```\n",
        "start_point = 10\n",
        "upper_boundary = 15\n",
        "lower_boundary = 4\n",
        "\n",
        "```\n",
        "\n",
        "\n",
        "\n",
        "\n",
        "Then joerg defines his `while` loop:\n",
        "\n",
        "\n",
        "```\n",
        "while ... :\n",
        "    start_point += random() - 0.5\n",
        "    print(start_point)\n",
        "```\n",
        "\n",
        "\n",
        "Joerg isn’t sure though, how he can make the while loop finish. Fill in the `...` and run the code and print the result as described. \n",
        "\n",
        "What did you observe?\n",
        "What was your last value, was it positive or negative?\n",
        "What happens if you run the code again? \n",
        "Do you get the same result?\n",
        "\n"
      ]
    },
    {
      "cell_type": "code",
      "metadata": {
        "id": "B6pzmE8pGspF",
        "colab": {
          "base_uri": "https://localhost:8080/"
        },
        "outputId": "c2960775-14cb-4939-8b22-def62fbe444e"
      },
      "source": [
        "#your code here\n",
        "import random\n",
        "\n",
        "start_point = 10\n",
        "upper_boundary = 15\n",
        "lower_boundary = 4\n",
        "\n",
        "while lower_boundary <= upper_boundary :\n",
        "    start_point += random.random() - 0.5\n",
        "    print(start_point)\n",
        "    lower_boundary = lower_boundary+1"
      ],
      "execution_count": 18,
      "outputs": [
        {
          "output_type": "stream",
          "name": "stdout",
          "text": [
            "9.568447567260026\n",
            "9.480408189297332\n",
            "9.171137315139019\n",
            "9.448037837013892\n",
            "9.178521128953728\n",
            "9.240747804220462\n",
            "9.173199175540928\n",
            "8.742437823027945\n",
            "8.947678837300053\n",
            "9.058791311413213\n",
            "8.938395236800057\n",
            "9.362016181631104\n"
          ]
        }
      ]
    },
    {
      "cell_type": "markdown",
      "metadata": {
        "id": "6My8znw6Gnnm"
      },
      "source": [
        "What did you observe?\n",
        "\n",
        "What was your last value, was it positive or negative?\n",
        "\n",
        "What happens if you run the code again? \n",
        "\n",
        "Do you get the same result?"
      ]
    },
    {
      "cell_type": "markdown",
      "metadata": {
        "id": "SglccAy9H49b"
      },
      "source": [
        "#**Exercise 4**\n",
        "Miodrag has just started learning python programming and loves using functions in his day-to-day work. A common problem Miodrag has is knowing when the weekend is, so he knows when to party. \n",
        "Write a function called `is_weekend` that takes **one string argument**, and **returns (hint!) a boolean value** - `True` if the input is ‘saturday’ or ‘sunday’, `False` if anything else. There are many ways to do this within a function, so the choice is up to you, whether you use **if statements**, a dictionary or something else. The most important thing is that the function runs. "
      ]
    },
    {
      "cell_type": "code",
      "metadata": {
        "id": "v25SFSnTISF-",
        "colab": {
          "base_uri": "https://localhost:8080/"
        },
        "outputId": "c14b84fb-bf06-49ff-c10a-0c92d60afc51"
      },
      "source": [
        "# your code here\n",
        "def is_weekend(inputDay):\n",
        "  return \"saturday\" == inputDay or \"sunday\" == inputDay or \"Saturday\" == inputDay or \"Sunday\" == inputDay\n",
        "\n",
        "dayInput = input(\"Enter the day\")\n",
        "print(is_weekend(dayInput))\n"
      ],
      "execution_count": 44,
      "outputs": [
        {
          "output_type": "stream",
          "name": "stdout",
          "text": [
            "False\n"
          ]
        }
      ]
    },
    {
      "cell_type": "markdown",
      "source": [
        "#**Exercise 5**\n",
        "\n",
        "Your math teacher introduced a new function by writing down a formula on the black board:\n",
        "\n",
        "$y = \\frac{1}{x^2} + log(x)$\n",
        "\n",
        "However, from just looking at this cryptic formula, you don't know how it looks like.\n",
        "So you decide to use your newly learned programming skills about functions and plotting to visualize the formula.\n",
        "\n",
        "Plot the x- and y-values of the above function in steps of 0.1 from 0.5 to 10.\n",
        "\n",
        "1. First define the function. You can use the ```math``` library to compute $x^2$ and $log(x)$\n",
        "2. Then get a list of all the x-values you need and another list of the corresponding y-values\n",
        "3. Lastly, plot the two lists using ```matplotlib``` like in the lecture\n",
        "\n"
      ],
      "metadata": {
        "id": "rUynyL-5LaV2"
      }
    },
    {
      "cell_type": "code",
      "source": [
        "# your code here"
      ],
      "metadata": {
        "id": "vhII6rpSLa0l"
      },
      "execution_count": null,
      "outputs": []
    }
  ]
}